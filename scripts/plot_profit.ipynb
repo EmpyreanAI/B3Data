{
 "cells": [
  {
   "cell_type": "markdown",
   "metadata": {},
   "source": [
    "# Plot profit script\n",
    "\n",
    "This is script is responsible for create the graphics that will show the exatly decision of LSTM prediction."
   ]
  },
  {
   "cell_type": "markdown",
   "metadata": {},
   "source": [
    " ### 1. Importing libs"
   ]
  },
  {
   "cell_type": "code",
   "execution_count": null,
   "metadata": {},
   "outputs": [],
   "source": [
    "import sys\n",
    "sys.path.append('../')\n",
    "sys.path.append('../testboard')\n",
    "from decimal import Decimal\n",
    "import matplotlib.pyplot as plt\n",
    "import numpy as np\n",
    "from models.denselstm import DenseLSTM\n",
    "from data_mining.stocks import Stocks\n",
    "from testboard.data_mining.smote import duplicate_data\n",
    "from data_mining.stocks import CLOSING, OPENING, MAX_PRICE, MIN_PRICE, MEAN_PRICE, VOLUME\n",
    "from sklearn.metrics import confusion_matrix\n",
    "from matplotlib.patches import Rectangle"
   ]
  },
  {
   "cell_type": "markdown",
   "metadata": {},
   "source": [
    "### 2. Load Data and Processing"
   ]
  },
  {
   "cell_type": "code",
   "execution_count": null,
   "metadata": {},
   "outputs": [],
   "source": [
    "stocks = Stocks(year=2014, cod='PETR3', period=5)\n",
    "dataset = stocks.selected_fields([CLOSING])\n",
    "dataset = duplicate_data(dataset)"
   ]
  },
  {
   "cell_type": "markdown",
   "metadata": {},
   "source": [
    "### 3. Creating LSTM model"
   ]
  },
  {
   "cell_type": "code",
   "execution_count": null,
   "metadata": {},
   "outputs": [],
   "source": [
    "model = DenseLSTM(input_shape=dataset.shape[1],\n",
    "                  look_back=9, lstm_cells=100, optimizer='rmsprop')\n",
    "model.create_data_for_fit(dataset)\n",
    "result = model.fit_and_evaluate(batch_size=128, epochs=5000)\n",
    "\n",
    "model.model.save(\"PETR3-model.h5\")\n",
    "print(\"Saved ABEV3 model to disk\")"
   ]
  },
  {
   "cell_type": "markdown",
   "metadata": {},
   "source": [
    "### 4. Map Predictions to Labels\n",
    "\n",
    "The *predictions_labels* receive the labels 1 or 0 based on real prediction from LSTM."
   ]
  },
  {
   "cell_type": "code",
   "execution_count": null,
   "metadata": {},
   "outputs": [],
   "source": [
    "prediction = model.model.predict(model.test_x)\n",
    "prediction_labels = [1 if Decimal(i.item()) >= Decimal(0.50) else 0 for i in prediction]\n",
    "avarange_dataset = [np.mean(dataset[i:i+9]) for i in range(len(dataset))]"
   ]
  },
  {
   "cell_type": "code",
   "execution_count": null,
   "metadata": {},
   "outputs": [],
   "source": [
    "begin_test = int(len(dataset) - len(model.test_x))\n",
    "correct_labels = [1 if dataset[i+1] >= dataset[i] else 0 for i in range(begin_test, len(dataset)-1)]\n",
    "x = list(range(begin_test, len(dataset)))\n",
    "y = dataset[begin_test:len(dataset)]"
   ]
  },
  {
   "cell_type": "code",
   "execution_count": 1,
   "metadata": {},
   "outputs": [
    {
     "name": "stderr",
     "output_type": "stream",
     "text": [
      "Using TensorFlow backend.\n"
     ]
    },
    {
     "name": "stdout",
     "output_type": "stream",
     "text": [
      "Model: \"sequential_1\"\n",
      "_________________________________________________________________\n",
      "Layer (type)                 Output Shape              Param #   \n",
      "=================================================================\n",
      "lstm_1 (LSTM)                (None, 100)               44000     \n",
      "_________________________________________________________________\n",
      "dense_1 (Dense)              (None, 1)                 101       \n",
      "=================================================================\n",
      "Total params: 44,101\n",
      "Trainable params: 44,101\n",
      "Non-trainable params: 0\n",
      "_________________________________________________________________\n",
      "73/73 [==============================] - 0s 486us/step\n",
      "[NeuralNetwork] Test Accuracy:0.7260273694992065\n",
      "Saved ABEV3 model to disk\n",
      "[1, 0, 0, 0, 0, 1, 1, 0, 0, 1, 1, 0, 0, 0, 0, 0, 0, 0, 0, 1, 1, 1, 1, 1, 1, 1, 1, 0, 0, 1, 1, 0, 0, 0, 0, 0, 0, 1, 1, 0, 0, 0, 0, 1, 1, 1, 1, 1, 1, 1, 1, 1, 1, 0, 0, 0, 0, 1, 1, 0, 0, 0, 0, 0, 0, 0, 0, 0, 0, 0, 0, 1]\n"
     ]
    },
    {
     "data": {
      "image/png": "[encoded data removed]",
      "text/plain": [
       "<Figure size 432x288 with 1 Axes>"
      ]
     },
     "metadata": {
      "needs_background": "light"
     },
     "output_type": "display_data"
    }
   ],
   "source": [
    "plt.ylabel(\"Daily Quotation Price\")\n",
    "plt.xlabel(\"Days\")\n",
    "plt.title(\"PETR3\")\n",
    "score = 0\n",
    "for i in range(len(x)-1):\n",
    "    if prediction_labels[i] == 1:\n",
    "        if prediction_labels[i] == model.test_y[i]:\n",
    "            h = plt.scatter(x[i], y[i], marker='^', c='green')\n",
    "            score += 1\n",
    "        else:\n",
    "            hx = plt.scatter(x[i], y[i], marker='x', c='green')\n",
    "    else:\n",
    "        if prediction_labels[i] == model.test_y[i]:\n",
    "            l = plt.scatter(x[i], y[i], marker='v', c='red')\n",
    "            score += 1\n",
    "        else:\n",
    "            lx = plt.scatter(x[i], y[i], marker='x', c='red')\n",
    "\n",
    "d_label, = plt.plot(dataset)\n",
    "a_label, = plt.plot(avarange_dataset, 'o')\n",
    "\n",
    "extra = Rectangle((0, 0), 1, 1, fc=\"w\", fill=False, edgecolor='none', linewidth=0)\n",
    "plt.legend((h,l,hx,lx,extra, d_label, a_label), (\"Correct higher price predicted\",\n",
    "                               \"Correct lowe price predicted\",\n",
    "                               \"Incorrect higher price predicted\",\n",
    "                               \"Incorrect lower price predicted\",\n",
    "                               \"Accuracy: {}%\".format(round(score/(len(x)-1), 2)*100),\n",
    "                               \"Real Stock Price\",\n",
    "                               \"Avarange Stock Price of 9 days\"), fontsize=6)\n",
    "\n",
    "plt.show()"
   ]
  },
  {
   "cell_type": "code",
   "execution_count": null,
   "metadata": {},
   "outputs": [],
   "source": []
  }
 ],
 "metadata": {
  "kernelspec": {
   "display_name": "Python 3",
   "language": "python",
   "name": "python3"
  },
  "language_info": {
   "codemirror_mode": {
    "name": "ipython",
    "version": 3
   },
   "file_extension": ".py",
   "mimetype": "text/x-python",
   "name": "python",
   "nbconvert_exporter": "python",
   "pygments_lexer": "ipython3",
   "version": "3.6.9"
  }
 },
 "nbformat": 4,
 "nbformat_minor": 4
}
