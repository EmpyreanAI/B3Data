{
 "cells": [
  {
   "cell_type": "code",
   "execution_count": 1,
   "metadata": {},
   "outputs": [
    {
     "name": "stderr",
     "output_type": "stream",
     "text": [
      "Using TensorFlow backend.\n"
     ]
    }
   ],
   "source": [
    "import sys\n",
    "sys.path.append('../')\n",
    "\n",
    "import numpy\n",
    "from sklearn.neighbors import (NeighborhoodComponentsAnalysis,KNeighborsClassifier)\n",
    "from sklearn.datasets import load_iris\n",
    "from sklearn.model_selection import train_test_split\n",
    "from sklearn.pipeline import Pipeline\n",
    "from sklearn.neighbors import KNeighborsRegressor\n",
    "from sklearn.svm import SVR\n",
    "from sklearn.preprocessing import MinMaxScaler\n",
    "\n",
    "from keras.layers import SimpleRNN\n",
    "from keras.models import Sequential\n",
    "\n",
    "from testboard.data_mining.helpers.stock_util import StockUtil\n",
    "from testboard.data_mining.smote import duplicate_data\n",
    "from testboard.models.densegru import DenseGRU\n",
    "from testboard.models.denselstm import DenseLSTM"
   ]
  },
  {
   "cell_type": "markdown",
   "metadata": {},
   "source": [
    "### Getting stock data"
   ]
  },
  {
   "cell_type": "code",
   "execution_count": 2,
   "metadata": {},
   "outputs": [],
   "source": [
    "stockutil = StockUtil(['PETR3'], [9])\n",
    "prices, preds = stockutil.average_prices_preds()"
   ]
  },
  {
   "cell_type": "markdown",
   "metadata": {},
   "source": [
    "### Slice dataset in training data and test data"
   ]
  },
  {
   "cell_type": "code",
   "execution_count": 3,
   "metadata": {},
   "outputs": [],
   "source": [
    "train_proportion = 0.7\n",
    "\n",
    "train_size = int(len(prices[0]) * train_proportion)\n",
    "\n",
    "train_x = prices[0][0:train_size]\n",
    "test_x = prices[0][train_size:len(prices[0])]\n",
    "train_y = preds[0][0:train_size]\n",
    "test_y = preds[0][train_size:len(prices[0])]"
   ]
  },
  {
   "cell_type": "markdown",
   "metadata": {},
   "source": [
    "### Testing on LSTM"
   ]
  },
  {
   "cell_type": "code",
   "execution_count": 4,
   "metadata": {},
   "outputs": [
    {
     "name": "stdout",
     "output_type": "stream",
     "text": [
      "63/63 [==============================] - 0s 548us/step\n",
      "[NeuralNetwork] Test Accuracy:0.8253968358039856\n",
      "accuracy: 0.8253968358039856\n"
     ]
    }
   ],
   "source": [
    "lstm = DenseLSTM(look_back=6, dense=False)\n",
    "lstm.create_data_for_fit(numpy.array(prices[0]).reshape(len(prices[0]), 1))\n",
    "result = lstm.fit_and_evaluate(batch_size=1, epochs=5000)\n",
    "print(\"accuracy: \" + str(result['acc']))"
   ]
  },
  {
   "cell_type": "markdown",
   "metadata": {},
   "source": [
    "### Testing on KNN"
   ]
  },
  {
   "cell_type": "code",
   "execution_count": 5,
   "metadata": {},
   "outputs": [
    {
     "name": "stdout",
     "output_type": "stream",
     "text": [
      "accuracy: 0.5217391304347826\n"
     ]
    }
   ],
   "source": [
    "X = numpy.array(train_x).reshape(len(train_x), 1)\n",
    "Y = train_y\n",
    "\n",
    "scaler = MinMaxScaler(feature_range=(0, 1))\n",
    "X = scaler.fit_transform(X)\n",
    "\n",
    "neigh = KNeighborsRegressor(n_neighbors=1)\n",
    "neigh.fit(X, Y)\n",
    "X_test = numpy.array(test_x).reshape(len(test_x), 1)\n",
    "\n",
    "X_test = scaler.fit_transform(X_test)\n",
    "\n",
    "score = 0\n",
    "for i, pred in enumerate(neigh.predict(X_test)):\n",
    "    if (pred >= 0.5 and test_y[i] is 1) or (pred < 0.5 and test_y[i] is 0):\n",
    "        score += 1\n",
    "\n",
    "print(\"accuracy: \" + str(score/len(test_y)))"
   ]
  },
  {
   "cell_type": "markdown",
   "metadata": {},
   "source": [
    "### Testing on LSTM optimized"
   ]
  },
  {
   "cell_type": "code",
   "execution_count": 6,
   "metadata": {},
   "outputs": [
    {
     "name": "stdout",
     "output_type": "stream",
     "text": [
      "63/63 [==============================] - 0s 543us/step\n",
      "[NeuralNetwork] Test Accuracy:0.8571428656578064\n",
      "accuracy: 0.8571428656578064\n"
     ]
    }
   ],
   "source": [
    "lstm = DenseLSTM(look_back=6, dense=1, lstm_cells=50)\n",
    "lstm.create_data_for_fit(numpy.array(prices[0]).reshape(len(prices[0]), 1))\n",
    "result = lstm.fit_and_evaluate(batch_size=1, epochs=5000)\n",
    "print(\"accuracy: \" + str(result['acc']))"
   ]
  },
  {
   "cell_type": "markdown",
   "metadata": {},
   "source": [
    "### Testing on GRU"
   ]
  },
  {
   "cell_type": "code",
   "execution_count": 7,
   "metadata": {},
   "outputs": [
    {
     "name": "stdout",
     "output_type": "stream",
     "text": [
      "63/63 [==============================] - 0s 562us/step\n",
      "[NeuralNetwork] Test Accuracy:0.8571428656578064\n",
      "accuracy: 0.8571428656578064\n"
     ]
    }
   ],
   "source": [
    "gru = DenseGRU(look_back=6, dense=False)\n",
    "gru.create_data_for_fit(numpy.array(prices[0]).reshape(len(prices[0]), 1))\n",
    "result = gru.fit_and_evaluate(batch_size=1, epochs=5000)\n",
    "print(\"accuracy: \" + str(result['acc']))"
   ]
  },
  {
   "cell_type": "markdown",
   "metadata": {},
   "source": [
    "### Testing on SVM"
   ]
  },
  {
   "cell_type": "code",
   "execution_count": 8,
   "metadata": {},
   "outputs": [
    {
     "name": "stdout",
     "output_type": "stream",
     "text": [
      "accuracy: 0.5072463768115942\n"
     ]
    }
   ],
   "source": [
    "svr = SVR(kernel='rbf', C=1, epsilon=0.2)\n",
    "svr.fit(X, Y)\n",
    "svr.predict(X_test)\n",
    "\n",
    "score = 0\n",
    "for i, pred in enumerate(svr.predict(X_test)):\n",
    "    if (pred >= 0.5 and test_y[i] is 1) or (pred < 0.5 and test_y[i] is 0):\n",
    "        score += 1\n",
    "        \n",
    "print(\"accuracy: \" + str(score/len(test_y)))"
   ]
  },
  {
   "cell_type": "markdown",
   "metadata": {},
   "source": [
    "##### Testing on RNN"
   ]
  },
  {
   "cell_type": "code",
   "execution_count": 9,
   "metadata": {},
   "outputs": [
    {
     "name": "stdout",
     "output_type": "stream",
     "text": [
      "63/63 [==============================] - 0s 594us/step\n",
      "accuracy: 0.5396825671195984\n"
     ]
    }
   ],
   "source": [
    "model = Sequential()\n",
    "\n",
    "model.add(SimpleRNN(activation=\"sigmoid\", units=1))\n",
    "\n",
    "model.compile(loss='binary_crossentropy',\n",
    "              optimizer='adam',\n",
    "              metrics=['accuracy'])\n",
    "\n",
    "model.fit(gru.train_x, gru.train_y, epochs=5000, verbose=0)\n",
    "result = model.evaluate(gru.test_x, gru.test_y)\n",
    "print('accuracy: ' + str(result[1]))"
   ]
  },
  {
   "cell_type": "code",
   "execution_count": null,
   "metadata": {},
   "outputs": [],
   "source": []
  },
  {
   "cell_type": "code",
   "execution_count": null,
   "metadata": {},
   "outputs": [],
   "source": []
  },
  {
   "cell_type": "code",
   "execution_count": 10,
   "metadata": {},
   "outputs": [
    {
     "ename": "SyntaxError",
     "evalue": "unexpected EOF while parsing (<ipython-input-10-e6b7ddad13a9>, line 1)",
     "output_type": "error",
     "traceback": [
      "\u001b[0;36m  File \u001b[0;32m\"<ipython-input-10-e6b7ddad13a9>\"\u001b[0;36m, line \u001b[0;32m1\u001b[0m\n\u001b[0;31m    for i in range(15):\u001b[0m\n\u001b[0m                       ^\u001b[0m\n\u001b[0;31mSyntaxError\u001b[0m\u001b[0;31m:\u001b[0m unexpected EOF while parsing\n"
     ]
    }
   ],
   "source": [
    "for i in range(15):"
   ]
  },
  {
   "cell_type": "code",
   "execution_count": null,
   "metadata": {},
   "outputs": [],
   "source": [
    "    print(i)"
   ]
  },
  {
   "cell_type": "code",
   "execution_count": null,
   "metadata": {},
   "outputs": [],
   "source": []
  }
 ],
 "metadata": {
  "kernelspec": {
   "display_name": "Python 3",
   "language": "python",
   "name": "python3"
  },
  "language_info": {
   "codemirror_mode": {
    "name": "ipython",
    "version": 3
   },
   "file_extension": ".py",
   "mimetype": "text/x-python",
   "name": "python",
   "nbconvert_exporter": "python",
   "pygments_lexer": "ipython3",
   "version": "3.6.9"
  }
 },
 "nbformat": 4,
 "nbformat_minor": 4
}
