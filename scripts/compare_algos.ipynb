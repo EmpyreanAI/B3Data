{
 "cells": [
  {
   "cell_type": "code",
   "execution_count": 1,
   "metadata": {},
   "outputs": [
    {
     "name": "stderr",
     "output_type": "stream",
     "text": [
      "Using TensorFlow backend.\n"
     ]
    }
   ],
   "source": [
    "import sys\n",
    "sys.path.append('../')\n",
    "\n",
    "import numpy\n",
    "from sklearn.neighbors import (NeighborhoodComponentsAnalysis,KNeighborsClassifier)\n",
    "from sklearn.datasets import load_iris\n",
    "from sklearn.model_selection import train_test_split\n",
    "from sklearn.pipeline import Pipeline\n",
    "from sklearn.neighbors import KNeighborsRegressor\n",
    "from sklearn.svm import SVR\n",
    "\n",
    "from keras.layers import SimpleRNN\n",
    "from keras.models import Sequential\n",
    "\n",
    "from testboard.data_mining.helpers.stock_util import StockUtil\n",
    "from testboard.data_mining.smote import duplicate_data\n",
    "from testboard.models.densegru import DenseGRU\n",
    "from testboard.models.denselstm import DenseLSTM"
   ]
  },
  {
   "cell_type": "markdown",
   "metadata": {},
   "source": [
    "### Getting stock data"
   ]
  },
  {
   "cell_type": "code",
   "execution_count": 12,
   "metadata": {},
   "outputs": [
    {
     "name": "stdout",
     "output_type": "stream",
     "text": [
      "[[0, 0, 0, 0, 0, 0, 0, 0, 1, 1, 1, 0, 0, 0, 0, 0, 0, 0, 0, 1, 1, 0, 0, 0, 0, 0, 0, 0, 0, 0, 0, 0, 0, 0, 0, 0, 0, 0, 0, 0, 0, 1, 1, 1, 1, 1, 1, 1, 1, 1, 1, 0, 0, 0, 0, 0, 0, 0, 0, 0, 0, 0, 0, 0, 1, 1, 1, 0, 0, 0, 0, 1, 0, 0, 0, 0, 0, 0, 0, 0, 0, 0, 0, 0, 0, 0, 0, 0, 0, 0, 0, 0, 0, 1, 1, 1, 1, 1, 1, 1, 1, 1, 1, 1, 1, 1, 1, 1, 1, 1, 1, 1, 1, 1, 1, 1, 1, 0, 0, 0, 1, 1, 1, 1, 0, 0, 0, 0, 1, 1, 1, 0, 0, 0, 0, 0, 1, 1, 1, 0, 1, 1, 1, 1, 0, 0, 1, 1, 1, 1, 1, 1, 1, 1, 1, 1, 1, 1, 1, 1, 1, 1, 0, 0, 0, 1, 1, 1, 1, 1, 1, 1, 0, 0, 0, 0, 0, 0, 0, 0, 0, 0, 0, 1, 1, 1, 1, 0, 0, 0, 0, 0, 0, 0, 0, 0, 0, 0, 0, 0, 0, 0, 1, 1, 1, 1, 1, 1, 1, 1, 1, 1, 1, 1, 0, 0, 1, 1, 1, 0, 0, 0, 0, 0, 0, 0, 0, 0, 0, 0]]\n"
     ]
    }
   ],
   "source": [
    "stockutil = StockUtil(['PETR3'], [9])\n",
    "prices, preds = stockutil.average_prices_preds()"
   ]
  },
  {
   "cell_type": "markdown",
   "metadata": {},
   "source": [
    "### Slice dataset in training data and test data"
   ]
  },
  {
   "cell_type": "code",
   "execution_count": 16,
   "metadata": {},
   "outputs": [],
   "source": [
    "train_proportion = 0.7\n",
    "\n",
    "train_size = int(len(prices[0]) * train_proportion)\n",
    "\n",
    "train_x = prices[0][0:train_size]\n",
    "test_x = prices[0][train_size:len(prices[0])]\n",
    "train_y = preds[0][0:train_size]\n",
    "test_y = preds[0][train_size:len(prices[0])]"
   ]
  },
  {
   "cell_type": "markdown",
   "metadata": {},
   "source": [
    "### Testing on KNN"
   ]
  },
  {
   "cell_type": "code",
   "execution_count": 15,
   "metadata": {},
   "outputs": [
    {
     "name": "stdout",
     "output_type": "stream",
     "text": [
      "[[15.445     ]\n",
      " [15.35444444]\n",
      " [15.26777778]\n",
      " [15.21944444]\n",
      " [15.16333333]\n",
      " [15.07111111]\n",
      " [14.98944444]\n",
      " [14.93166667]\n",
      " [14.87      ]\n",
      " [14.83388889]\n",
      " [14.84666667]\n",
      " [14.85944444]\n",
      " [14.83777778]\n",
      " [14.79888889]\n",
      " [14.77111111]\n",
      " [14.74277778]\n",
      " [14.70055556]\n",
      " [14.66444444]\n",
      " [14.605     ]\n",
      " [14.54388889]\n",
      " [14.53      ]\n",
      " [14.52      ]\n",
      " [14.49666667]\n",
      " [14.45833333]\n",
      " [14.41666667]\n",
      " [14.38888889]\n",
      " [14.355     ]\n",
      " [14.31833333]\n",
      " [14.25722222]\n",
      " [14.15666667]\n",
      " [14.06      ]\n",
      " [13.97611111]\n",
      " [13.90666667]\n",
      " [13.865     ]\n",
      " [13.83388889]\n",
      " [13.76888889]\n",
      " [13.66666667]\n",
      " [13.57388889]\n",
      " [13.50555556]\n",
      " [13.435     ]\n",
      " [13.35333333]\n",
      " [13.29666667]\n",
      " [13.25166667]\n",
      " [13.21222222]\n",
      " [13.22277778]\n",
      " [13.27555556]\n",
      " [13.32388889]\n",
      " [13.38555556]\n",
      " [13.48722222]\n",
      " [13.60444444]\n",
      " [13.70111111]\n",
      " [13.76333333]\n",
      " [13.79722222]\n",
      " [13.81888889]\n",
      " [13.83611111]\n",
      " [13.83388889]\n",
      " [13.79444444]\n",
      " [13.72222222]\n",
      " [13.64166667]\n",
      " [13.56888889]\n",
      " [13.51777778]\n",
      " [13.48      ]\n",
      " [13.43944444]\n",
      " [13.40055556]\n",
      " [13.37833333]\n",
      " [13.38388889]\n",
      " [13.41277778]\n",
      " [13.43166667]\n",
      " [13.42444444]\n",
      " [13.39      ]\n",
      " [13.33666667]\n",
      " [13.30944444]\n",
      " [13.30388889]\n",
      " [13.27722222]\n",
      " [13.21833333]\n",
      " [13.13055556]\n",
      " [13.04722222]\n",
      " [12.99611111]\n",
      " [12.97833333]\n",
      " [12.96888889]\n",
      " [12.92277778]\n",
      " [12.84055556]\n",
      " [12.765     ]\n",
      " [12.70833333]\n",
      " [12.66722222]\n",
      " [12.64722222]\n",
      " [12.62055556]\n",
      " [12.57222222]\n",
      " [12.52722222]\n",
      " [12.47777778]\n",
      " [12.42333333]\n",
      " [12.37666667]\n",
      " [12.32555556]\n",
      " [12.29388889]\n",
      " [12.27611111]\n",
      " [12.27666667]\n",
      " [12.31055556]\n",
      " [12.38888889]\n",
      " [12.51944444]\n",
      " [12.67111111]\n",
      " [12.83111111]\n",
      " [13.02      ]\n",
      " [13.21388889]\n",
      " [13.39444444]\n",
      " [13.55722222]\n",
      " [13.68111111]\n",
      " [13.755     ]\n",
      " [13.85166667]\n",
      " [14.00222222]\n",
      " [14.15944444]\n",
      " [14.30277778]\n",
      " [14.41888889]\n",
      " [14.52611111]\n",
      " [14.63222222]\n",
      " [14.75833333]\n",
      " [14.93333333]\n",
      " [15.08444444]\n",
      " [15.14388889]\n",
      " [15.15888889]\n",
      " [15.155     ]\n",
      " [15.14555556]\n",
      " [15.19166667]\n",
      " [15.28555556]\n",
      " [15.34944444]\n",
      " [15.35444444]\n",
      " [15.31611111]\n",
      " [15.30222222]\n",
      " [15.31888889]\n",
      " [15.34055556]\n",
      " [15.395     ]\n",
      " [15.42111111]\n",
      " [15.38055556]\n",
      " [15.35111111]\n",
      " [15.31722222]\n",
      " [15.26333333]\n",
      " [15.23277778]\n",
      " [15.21944444]\n",
      " [15.24      ]\n",
      " [15.26666667]\n",
      " [15.24722222]\n",
      " [15.22      ]\n",
      " [15.20555556]\n",
      " [15.21944444]\n",
      " [15.26666667]\n",
      " [15.30388889]\n",
      " [15.31777778]\n",
      " [15.29166667]\n",
      " [15.26444444]\n",
      " [15.28833333]\n",
      " [15.33944444]\n",
      " [15.39722222]\n",
      " [15.44944444]\n",
      " [15.49111111]\n",
      " [15.56166667]\n",
      " [15.67444444]\n",
      " [15.80666667]\n",
      " [15.91944444]\n",
      " [16.03888889]\n",
      " [16.18888889]\n",
      " [16.35277778]\n",
      " [16.54277778]]\n",
      "[1. 1. 1. 1. 1. 1. 1. 1. 1. 1. 1. 1. 1. 1. 1. 1. 1. 1. 1. 1. 1. 1. 1. 1.\n",
      " 1. 1. 1. 1. 1. 1. 1. 1. 1. 1. 1. 1. 1. 1. 1. 1. 1. 1. 1. 1. 1. 1. 1. 1.\n",
      " 1. 1. 1. 1. 1. 1. 1. 1. 1. 1. 1. 1. 1. 1. 1. 1. 1. 1. 1. 1. 1.]\n",
      "accuracy: 0.391304347826087\n"
     ]
    }
   ],
   "source": [
    "X = numpy.array(train_x).reshape(len(train_x), 1)\n",
    "print(X)\n",
    "Y = train_y\n",
    "\n",
    "neigh = KNeighborsRegressor(n_neighbors=5)\n",
    "neigh.fit(X, Y)\n",
    "X_test = numpy.array(test_x).reshape(len(test_x), 1)\n",
    "\n",
    "print(neigh.predict(X_test))\n",
    "score = 0\n",
    "for i, pred in enumerate(neigh.predict(X_test)):\n",
    "    if (pred >= 0.5 and test_y[i] is 1) or (pred < 0.5 and test_y[i] is 0):\n",
    "        score += 1\n",
    "        \n",
    "print(\"accuracy: \" + str(score/len(test_y)))"
   ]
  },
  {
   "cell_type": "markdown",
   "metadata": {},
   "source": [
    "### Testing on LSTM"
   ]
  },
  {
   "cell_type": "code",
   "execution_count": 5,
   "metadata": {},
   "outputs": [
    {
     "name": "stdout",
     "output_type": "stream",
     "text": [
      "63/63 [==============================] - 0s 1ms/step\n",
      "[NeuralNetwork] Test Accuracy:0.8253968358039856\n",
      "accuracy: 0.8253968358039856\n"
     ]
    }
   ],
   "source": [
    "lstm = DenseLSTM(look_back=6, dense=False)\n",
    "lstm.create_data_for_fit(numpy.array(prices[0]).reshape(len(prices[0]), 1))\n",
    "result = lstm.fit_and_evaluate(batch_size=1, epochs=5000)\n",
    "print(\"accuracy: \" + str(result['acc']))"
   ]
  },
  {
   "cell_type": "markdown",
   "metadata": {},
   "source": [
    "### Testing on LSTM optimized"
   ]
  },
  {
   "cell_type": "code",
   "execution_count": 6,
   "metadata": {},
   "outputs": [
    {
     "name": "stdout",
     "output_type": "stream",
     "text": [
      "63/63 [==============================] - 0s 2ms/step\n",
      "[NeuralNetwork] Test Accuracy:0.8571428656578064\n",
      "accuracy: 0.8571428656578064\n"
     ]
    }
   ],
   "source": [
    "lstm = DenseLSTM(look_back=6, dense=1, lstm_cells=50)\n",
    "lstm.create_data_for_fit(numpy.array(prices[0]).reshape(len(prices[0]), 1))\n",
    "result = lstm.fit_and_evaluate(batch_size=1, epochs=5000)\n",
    "print(\"accuracy: \" + str(result['acc']))"
   ]
  },
  {
   "cell_type": "markdown",
   "metadata": {},
   "source": [
    "### Testing on GRU"
   ]
  },
  {
   "cell_type": "code",
   "execution_count": 7,
   "metadata": {},
   "outputs": [
    {
     "name": "stdout",
     "output_type": "stream",
     "text": [
      "63/63 [==============================] - 0s 1ms/step\n",
      "[NeuralNetwork] Test Accuracy:0.8571428656578064\n",
      "accuracy: 0.8571428656578064\n"
     ]
    }
   ],
   "source": [
    "gru = DenseGRU(look_back=6, dense=False)\n",
    "gru.create_data_for_fit(numpy.array(prices[0]).reshape(len(prices[0]), 1))\n",
    "result = gru.fit_and_evaluate(batch_size=1, epochs=5000)\n",
    "print(\"accuracy: \" + str(result['acc']))"
   ]
  },
  {
   "cell_type": "markdown",
   "metadata": {},
   "source": [
    "### Testing on SVM"
   ]
  },
  {
   "cell_type": "code",
   "execution_count": 8,
   "metadata": {},
   "outputs": [
    {
     "data": {
      "text/plain": [
       "array([0.82893668, 0.84642084, 0.85657923, 0.86341661, 0.87259823,\n",
       "       0.87953329, 0.87972864, 0.8761146 , 0.8719145 , 0.87621228,\n",
       "       0.88324501, 0.88891027, 0.89486856, 0.89545462, 0.89125451,\n",
       "       0.88676138, 0.87689601, 0.85843509, 0.83929043, 0.82522496,\n",
       "       0.81506657, 0.80715474, 0.80090342, 0.79572655, 0.7929916 ,\n",
       "       0.79777776, 0.80471282, 0.80588494, 0.80627565, 0.80705707,\n",
       "       0.80373605, 0.79689867, 0.78488442, 0.76632582, 0.74522762,\n",
       "       0.72696205, 0.71524082, 0.70508243, 0.69150535, 0.67900271,\n",
       "       0.66698846, 0.6571231 , 0.66366745, 0.68261676, 0.70459405,\n",
       "       0.7258876 , 0.74688812, 0.77257714, 0.80520121, 0.84534639,\n",
       "       0.88988704, 0.92456232, 0.94546516, 0.96197255, 0.97291236,\n",
       "       0.97789388, 0.98639177, 0.99615945, 0.99752693, 0.99361985,\n",
       "       0.98492661, 0.97535428, 0.96343771, 0.95034901, 0.93511142,\n",
       "       0.90825028, 0.87494248, 0.84485801, 0.81682475])"
      ]
     },
     "execution_count": 8,
     "metadata": {},
     "output_type": "execute_result"
    }
   ],
   "source": [
    "svr = SVR(kernel='linear', C=1, epsilon=0.2)\n",
    "svr.fit(X, Y)\n",
    "X_test = numpy.array(test_x).reshape(len(test_x), 1)\n",
    "svr.predict(X_test)"
   ]
  },
  {
   "cell_type": "markdown",
   "metadata": {},
   "source": [
    "### Testing on RNN"
   ]
  },
  {
   "cell_type": "code",
   "execution_count": 9,
   "metadata": {},
   "outputs": [
    {
     "name": "stdout",
     "output_type": "stream",
     "text": [
      "63/63 [==============================] - 0s 3ms/step\n",
      "accuracy: 0.4920634925365448\n"
     ]
    }
   ],
   "source": [
    "model = Sequential()\n",
    "\n",
    "model.add(SimpleRNN(activation=\"sigmoid\", units=1))\n",
    "\n",
    "model.compile(loss='binary_crossentropy',\n",
    "              optimizer='adam',\n",
    "              metrics=['accuracy'])\n",
    "\n",
    "model.fit(gru.train_x, gru.train_y, epochs=5000, verbose=0)\n",
    "result = model.evaluate(gru.test_x, gru.test_y)\n",
    "print('accuracy: ' + str(result[1]))"
   ]
  },
  {
   "cell_type": "code",
   "execution_count": null,
   "metadata": {},
   "outputs": [],
   "source": []
  },
  {
   "cell_type": "code",
   "execution_count": null,
   "metadata": {},
   "outputs": [],
   "source": []
  }
 ],
 "metadata": {
  "kernelspec": {
   "display_name": "Python 3",
   "language": "python",
   "name": "python3"
  },
  "language_info": {
   "codemirror_mode": {
    "name": "ipython",
    "version": 3
   },
   "file_extension": ".py",
   "mimetype": "text/x-python",
   "name": "python",
   "nbconvert_exporter": "python",
   "pygments_lexer": "ipython3",
   "version": "3.6.9"
  }
 },
 "nbformat": 4,
 "nbformat_minor": 4
}
